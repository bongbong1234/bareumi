{
 "cells": [
  {
   "cell_type": "code",
   "execution_count": 1,
   "metadata": {},
   "outputs": [
    {
     "name": "stdout",
     "output_type": "stream",
     "text": [
      "Collecting firebase-admin\n",
      "  Downloading firebase_admin-6.6.0-py3-none-any.whl.metadata (1.5 kB)\n",
      "Collecting cachecontrol>=0.12.14 (from firebase-admin)\n",
      "  Downloading cachecontrol-0.14.1-py3-none-any.whl.metadata (3.1 kB)\n",
      "Collecting google-api-python-client>=1.7.8 (from firebase-admin)\n",
      "  Downloading google_api_python_client-2.155.0-py2.py3-none-any.whl.metadata (6.7 kB)\n",
      "Collecting google-cloud-storage>=1.37.1 (from firebase-admin)\n",
      "  Downloading google_cloud_storage-2.19.0-py2.py3-none-any.whl.metadata (9.1 kB)\n",
      "Collecting pyjwt>=2.5.0 (from pyjwt[crypto]>=2.5.0->firebase-admin)\n",
      "  Downloading PyJWT-2.9.0-py3-none-any.whl.metadata (3.0 kB)\n",
      "Collecting google-api-core<3.0.0dev,>=1.22.1 (from google-api-core[grpc]<3.0.0dev,>=1.22.1; platform_python_implementation != \"PyPy\"->firebase-admin)\n",
      "  Downloading google_api_core-2.24.0-py3-none-any.whl.metadata (3.0 kB)\n",
      "Collecting google-cloud-firestore>=2.19.0 (from firebase-admin)\n",
      "  Downloading google_cloud_firestore-2.19.0-py2.py3-none-any.whl.metadata (5.7 kB)\n",
      "Collecting requests>=2.16.0 (from cachecontrol>=0.12.14->firebase-admin)\n",
      "  Using cached requests-2.32.3-py3-none-any.whl.metadata (4.6 kB)\n",
      "Collecting msgpack<2.0.0,>=0.5.2 (from cachecontrol>=0.12.14->firebase-admin)\n",
      "  Downloading msgpack-1.1.0-cp38-cp38-win_amd64.whl.metadata (8.6 kB)\n",
      "Collecting googleapis-common-protos<2.0.dev0,>=1.56.2 (from google-api-core<3.0.0dev,>=1.22.1->google-api-core[grpc]<3.0.0dev,>=1.22.1; platform_python_implementation != \"PyPy\"->firebase-admin)\n",
      "  Downloading googleapis_common_protos-1.66.0-py2.py3-none-any.whl.metadata (1.5 kB)\n",
      "Collecting protobuf!=3.20.0,!=3.20.1,!=4.21.0,!=4.21.1,!=4.21.2,!=4.21.3,!=4.21.4,!=4.21.5,<6.0.0.dev0,>=3.19.5 (from google-api-core<3.0.0dev,>=1.22.1->google-api-core[grpc]<3.0.0dev,>=1.22.1; platform_python_implementation != \"PyPy\"->firebase-admin)\n",
      "  Downloading protobuf-5.29.1-cp38-cp38-win_amd64.whl.metadata (592 bytes)\n",
      "Collecting proto-plus<2.0.0dev,>=1.22.3 (from google-api-core<3.0.0dev,>=1.22.1->google-api-core[grpc]<3.0.0dev,>=1.22.1; platform_python_implementation != \"PyPy\"->firebase-admin)\n",
      "  Downloading proto_plus-1.25.0-py3-none-any.whl.metadata (2.2 kB)\n",
      "Collecting google-auth<3.0.dev0,>=2.14.1 (from google-api-core<3.0.0dev,>=1.22.1->google-api-core[grpc]<3.0.0dev,>=1.22.1; platform_python_implementation != \"PyPy\"->firebase-admin)\n",
      "  Downloading google_auth-2.37.0-py2.py3-none-any.whl.metadata (4.8 kB)\n",
      "Collecting grpcio<2.0dev,>=1.33.2 (from google-api-core[grpc]<3.0.0dev,>=1.22.1; platform_python_implementation != \"PyPy\"->firebase-admin)\n",
      "  Downloading grpcio-1.68.1-cp38-cp38-win_amd64.whl.metadata (4.0 kB)\n",
      "Collecting grpcio-status<2.0.dev0,>=1.33.2 (from google-api-core[grpc]<3.0.0dev,>=1.22.1; platform_python_implementation != \"PyPy\"->firebase-admin)\n",
      "  Downloading grpcio_status-1.68.1-py3-none-any.whl.metadata (1.1 kB)\n",
      "Collecting httplib2<1.dev0,>=0.19.0 (from google-api-python-client>=1.7.8->firebase-admin)\n",
      "  Downloading httplib2-0.22.0-py3-none-any.whl.metadata (2.6 kB)\n",
      "Collecting google-auth-httplib2<1.0.0,>=0.2.0 (from google-api-python-client>=1.7.8->firebase-admin)\n",
      "  Downloading google_auth_httplib2-0.2.0-py2.py3-none-any.whl.metadata (2.2 kB)\n",
      "Collecting uritemplate<5,>=3.0.1 (from google-api-python-client>=1.7.8->firebase-admin)\n",
      "  Downloading uritemplate-4.1.1-py2.py3-none-any.whl.metadata (2.9 kB)\n",
      "Collecting google-cloud-core<3.0.0dev,>=1.4.1 (from google-cloud-firestore>=2.19.0->firebase-admin)\n",
      "  Downloading google_cloud_core-2.4.1-py2.py3-none-any.whl.metadata (2.7 kB)\n",
      "Collecting google-resumable-media>=2.7.2 (from google-cloud-storage>=1.37.1->firebase-admin)\n",
      "  Downloading google_resumable_media-2.7.2-py2.py3-none-any.whl.metadata (2.2 kB)\n",
      "Collecting google-crc32c<2.0dev,>=1.0 (from google-cloud-storage>=1.37.1->firebase-admin)\n",
      "  Downloading google_crc32c-1.5.0-cp38-cp38-win_amd64.whl.metadata (2.3 kB)\n",
      "Collecting cryptography>=3.4.0 (from pyjwt[crypto]>=2.5.0->firebase-admin)\n",
      "  Downloading cryptography-44.0.0-cp37-abi3-win_amd64.whl.metadata (5.7 kB)\n",
      "Collecting cffi>=1.12 (from cryptography>=3.4.0->pyjwt[crypto]>=2.5.0->firebase-admin)\n",
      "  Downloading cffi-1.17.1-cp38-cp38-win_amd64.whl.metadata (1.6 kB)\n",
      "Collecting cachetools<6.0,>=2.0.0 (from google-auth<3.0.dev0,>=2.14.1->google-api-core<3.0.0dev,>=1.22.1->google-api-core[grpc]<3.0.0dev,>=1.22.1; platform_python_implementation != \"PyPy\"->firebase-admin)\n",
      "  Using cached cachetools-5.5.0-py3-none-any.whl.metadata (5.3 kB)\n",
      "Collecting pyasn1-modules>=0.2.1 (from google-auth<3.0.dev0,>=2.14.1->google-api-core<3.0.0dev,>=1.22.1->google-api-core[grpc]<3.0.0dev,>=1.22.1; platform_python_implementation != \"PyPy\"->firebase-admin)\n",
      "  Using cached pyasn1_modules-0.4.1-py3-none-any.whl.metadata (3.5 kB)\n",
      "Collecting rsa<5,>=3.1.4 (from google-auth<3.0.dev0,>=2.14.1->google-api-core<3.0.0dev,>=1.22.1->google-api-core[grpc]<3.0.0dev,>=1.22.1; platform_python_implementation != \"PyPy\"->firebase-admin)\n",
      "  Using cached rsa-4.9-py3-none-any.whl.metadata (4.2 kB)\n",
      "Collecting pyparsing!=3.0.0,!=3.0.1,!=3.0.2,!=3.0.3,<4,>=2.4.2 (from httplib2<1.dev0,>=0.19.0->google-api-python-client>=1.7.8->firebase-admin)\n",
      "  Downloading pyparsing-3.1.4-py3-none-any.whl.metadata (5.1 kB)\n",
      "Collecting charset-normalizer<4,>=2 (from requests>=2.16.0->cachecontrol>=0.12.14->firebase-admin)\n",
      "  Downloading charset_normalizer-3.4.0-cp38-cp38-win_amd64.whl.metadata (34 kB)\n",
      "Collecting idna<4,>=2.5 (from requests>=2.16.0->cachecontrol>=0.12.14->firebase-admin)\n",
      "  Using cached idna-3.10-py3-none-any.whl.metadata (10 kB)\n",
      "Collecting urllib3<3,>=1.21.1 (from requests>=2.16.0->cachecontrol>=0.12.14->firebase-admin)\n",
      "  Using cached urllib3-2.2.3-py3-none-any.whl.metadata (6.5 kB)\n",
      "Collecting certifi>=2017.4.17 (from requests>=2.16.0->cachecontrol>=0.12.14->firebase-admin)\n",
      "  Downloading certifi-2024.12.14-py3-none-any.whl.metadata (2.3 kB)\n",
      "Collecting pycparser (from cffi>=1.12->cryptography>=3.4.0->pyjwt[crypto]>=2.5.0->firebase-admin)\n",
      "  Using cached pycparser-2.22-py3-none-any.whl.metadata (943 bytes)\n",
      "Collecting pyasn1<0.7.0,>=0.4.6 (from pyasn1-modules>=0.2.1->google-auth<3.0.dev0,>=2.14.1->google-api-core<3.0.0dev,>=1.22.1->google-api-core[grpc]<3.0.0dev,>=1.22.1; platform_python_implementation != \"PyPy\"->firebase-admin)\n",
      "  Using cached pyasn1-0.6.1-py3-none-any.whl.metadata (8.4 kB)\n",
      "Downloading firebase_admin-6.6.0-py3-none-any.whl (127 kB)\n",
      "Downloading cachecontrol-0.14.1-py3-none-any.whl (22 kB)\n",
      "Downloading google_api_core-2.24.0-py3-none-any.whl (158 kB)\n",
      "Downloading google_api_python_client-2.155.0-py2.py3-none-any.whl (12.7 MB)\n",
      "   ---------------------------------------- 0.0/12.7 MB ? eta -:--:--\n",
      "   ---------------------------------------- 12.7/12.7 MB 66.2 MB/s eta 0:00:00\n",
      "Downloading google_cloud_firestore-2.19.0-py2.py3-none-any.whl (336 kB)\n",
      "Downloading google_cloud_storage-2.19.0-py2.py3-none-any.whl (131 kB)\n",
      "Downloading PyJWT-2.9.0-py3-none-any.whl (22 kB)\n",
      "Downloading cryptography-44.0.0-cp37-abi3-win_amd64.whl (3.2 MB)\n",
      "   ---------------------------------------- 0.0/3.2 MB ? eta -:--:--\n",
      "   ---------------------------------------- 3.2/3.2 MB 94.8 MB/s eta 0:00:00\n",
      "Downloading google_auth-2.37.0-py2.py3-none-any.whl (209 kB)\n",
      "Downloading google_auth_httplib2-0.2.0-py2.py3-none-any.whl (9.3 kB)\n",
      "Downloading google_cloud_core-2.4.1-py2.py3-none-any.whl (29 kB)\n",
      "Downloading google_crc32c-1.5.0-cp38-cp38-win_amd64.whl (27 kB)\n",
      "Downloading google_resumable_media-2.7.2-py2.py3-none-any.whl (81 kB)\n",
      "Downloading googleapis_common_protos-1.66.0-py2.py3-none-any.whl (221 kB)\n",
      "Downloading grpcio-1.68.1-cp38-cp38-win_amd64.whl (4.4 MB)\n",
      "   ---------------------------------------- 0.0/4.4 MB ? eta -:--:--\n",
      "   ---------------------------------------- 4.4/4.4 MB 88.1 MB/s eta 0:00:00\n",
      "Downloading grpcio_status-1.68.1-py3-none-any.whl (14 kB)\n",
      "Downloading httplib2-0.22.0-py3-none-any.whl (96 kB)\n",
      "Downloading msgpack-1.1.0-cp38-cp38-win_amd64.whl (74 kB)\n",
      "Downloading proto_plus-1.25.0-py3-none-any.whl (50 kB)\n",
      "Downloading protobuf-5.29.1-cp38-cp38-win_amd64.whl (434 kB)\n",
      "Using cached requests-2.32.3-py3-none-any.whl (64 kB)\n",
      "Downloading uritemplate-4.1.1-py2.py3-none-any.whl (10 kB)\n",
      "Using cached cachetools-5.5.0-py3-none-any.whl (9.5 kB)\n",
      "Downloading certifi-2024.12.14-py3-none-any.whl (164 kB)\n",
      "Downloading cffi-1.17.1-cp38-cp38-win_amd64.whl (181 kB)\n",
      "Downloading charset_normalizer-3.4.0-cp38-cp38-win_amd64.whl (101 kB)\n",
      "Using cached idna-3.10-py3-none-any.whl (70 kB)\n",
      "Using cached pyasn1_modules-0.4.1-py3-none-any.whl (181 kB)\n",
      "Downloading pyparsing-3.1.4-py3-none-any.whl (104 kB)\n",
      "Using cached rsa-4.9-py3-none-any.whl (34 kB)\n",
      "Using cached urllib3-2.2.3-py3-none-any.whl (126 kB)\n",
      "Using cached pyasn1-0.6.1-py3-none-any.whl (83 kB)\n",
      "Using cached pycparser-2.22-py3-none-any.whl (117 kB)\n",
      "Installing collected packages: urllib3, uritemplate, pyparsing, pyjwt, pycparser, pyasn1, protobuf, msgpack, idna, grpcio, google-crc32c, charset-normalizer, certifi, cachetools, rsa, requests, pyasn1-modules, proto-plus, httplib2, googleapis-common-protos, google-resumable-media, cffi, grpcio-status, google-auth, cryptography, cachecontrol, google-auth-httplib2, google-api-core, google-cloud-core, google-api-python-client, google-cloud-storage, google-cloud-firestore, firebase-admin\n",
      "Successfully installed cachecontrol-0.14.1 cachetools-5.5.0 certifi-2024.12.14 cffi-1.17.1 charset-normalizer-3.4.0 cryptography-44.0.0 firebase-admin-6.6.0 google-api-core-2.24.0 google-api-python-client-2.155.0 google-auth-2.37.0 google-auth-httplib2-0.2.0 google-cloud-core-2.4.1 google-cloud-firestore-2.19.0 google-cloud-storage-2.19.0 google-crc32c-1.5.0 google-resumable-media-2.7.2 googleapis-common-protos-1.66.0 grpcio-1.68.1 grpcio-status-1.68.1 httplib2-0.22.0 idna-3.10 msgpack-1.1.0 proto-plus-1.25.0 protobuf-5.29.1 pyasn1-0.6.1 pyasn1-modules-0.4.1 pycparser-2.22 pyjwt-2.9.0 pyparsing-3.1.4 requests-2.32.3 rsa-4.9 uritemplate-4.1.1 urllib3-2.2.3\n",
      "Note: you may need to restart the kernel to use updated packages.\n"
     ]
    }
   ],
   "source": [
    "pip install firebase-admin"
   ]
  },
  {
   "cell_type": "code",
   "execution_count": 2,
   "metadata": {},
   "outputs": [
    {
     "name": "stdout",
     "output_type": "stream",
     "text": [
      "Collecting flask-sqlalchemy\n",
      "  Downloading flask_sqlalchemy-3.1.1-py3-none-any.whl.metadata (3.4 kB)\n",
      "Collecting mysql-connector-python\n",
      "  Downloading mysql_connector_python-9.0.0-cp38-cp38-win_amd64.whl.metadata (2.0 kB)\n",
      "Collecting flask>=2.2.5 (from flask-sqlalchemy)\n",
      "  Using cached flask-3.0.3-py3-none-any.whl.metadata (3.2 kB)\n",
      "Collecting sqlalchemy>=2.0.16 (from flask-sqlalchemy)\n",
      "  Downloading SQLAlchemy-2.0.36-cp38-cp38-win_amd64.whl.metadata (9.9 kB)\n",
      "Collecting Werkzeug>=3.0.0 (from flask>=2.2.5->flask-sqlalchemy)\n",
      "  Downloading werkzeug-3.0.6-py3-none-any.whl.metadata (3.7 kB)\n",
      "Collecting Jinja2>=3.1.2 (from flask>=2.2.5->flask-sqlalchemy)\n",
      "  Using cached jinja2-3.1.4-py3-none-any.whl.metadata (2.6 kB)\n",
      "Collecting itsdangerous>=2.1.2 (from flask>=2.2.5->flask-sqlalchemy)\n",
      "  Using cached itsdangerous-2.2.0-py3-none-any.whl.metadata (1.9 kB)\n",
      "Collecting click>=8.1.3 (from flask>=2.2.5->flask-sqlalchemy)\n",
      "  Using cached click-8.1.7-py3-none-any.whl.metadata (3.0 kB)\n",
      "Collecting blinker>=1.6.2 (from flask>=2.2.5->flask-sqlalchemy)\n",
      "  Using cached blinker-1.8.2-py3-none-any.whl.metadata (1.6 kB)\n",
      "Requirement already satisfied: importlib-metadata>=3.6.0 in c:\\users\\smhrd\\anaconda3\\envs\\bareumi\\lib\\site-packages (from flask>=2.2.5->flask-sqlalchemy) (8.5.0)\n",
      "Requirement already satisfied: typing-extensions>=4.6.0 in c:\\users\\smhrd\\anaconda3\\envs\\bareumi\\lib\\site-packages (from sqlalchemy>=2.0.16->flask-sqlalchemy) (4.12.2)\n",
      "Collecting greenlet!=0.4.17 (from sqlalchemy>=2.0.16->flask-sqlalchemy)\n",
      "  Downloading greenlet-3.1.1-cp38-cp38-win_amd64.whl.metadata (3.9 kB)\n",
      "Requirement already satisfied: colorama in c:\\users\\smhrd\\anaconda3\\envs\\bareumi\\lib\\site-packages (from click>=8.1.3->flask>=2.2.5->flask-sqlalchemy) (0.4.6)\n",
      "Requirement already satisfied: zipp>=3.20 in c:\\users\\smhrd\\anaconda3\\envs\\bareumi\\lib\\site-packages (from importlib-metadata>=3.6.0->flask>=2.2.5->flask-sqlalchemy) (3.21.0)\n",
      "Collecting MarkupSafe>=2.0 (from Jinja2>=3.1.2->flask>=2.2.5->flask-sqlalchemy)\n",
      "  Downloading MarkupSafe-2.1.5-cp38-cp38-win_amd64.whl.metadata (3.1 kB)\n",
      "Downloading flask_sqlalchemy-3.1.1-py3-none-any.whl (25 kB)\n",
      "Downloading mysql_connector_python-9.0.0-cp38-cp38-win_amd64.whl (14.3 MB)\n",
      "   ---------------------------------------- 0.0/14.3 MB ? eta -:--:--\n",
      "   ----------------------------- ---------- 10.5/14.3 MB 54.4 MB/s eta 0:00:01\n",
      "   ---------------------------------------- 14.3/14.3 MB 49.9 MB/s eta 0:00:00\n",
      "Using cached flask-3.0.3-py3-none-any.whl (101 kB)\n",
      "Downloading SQLAlchemy-2.0.36-cp38-cp38-win_amd64.whl (2.1 MB)\n",
      "   ---------------------------------------- 0.0/2.1 MB ? eta -:--:--\n",
      "   ---------------------------------------- 2.1/2.1 MB 39.8 MB/s eta 0:00:00\n",
      "Using cached blinker-1.8.2-py3-none-any.whl (9.5 kB)\n",
      "Using cached click-8.1.7-py3-none-any.whl (97 kB)\n",
      "Downloading greenlet-3.1.1-cp38-cp38-win_amd64.whl (298 kB)\n",
      "Using cached itsdangerous-2.2.0-py3-none-any.whl (16 kB)\n",
      "Using cached jinja2-3.1.4-py3-none-any.whl (133 kB)\n",
      "Downloading werkzeug-3.0.6-py3-none-any.whl (227 kB)\n",
      "Downloading MarkupSafe-2.1.5-cp38-cp38-win_amd64.whl (17 kB)\n",
      "Installing collected packages: mysql-connector-python, MarkupSafe, itsdangerous, greenlet, click, blinker, Werkzeug, sqlalchemy, Jinja2, flask, flask-sqlalchemy\n",
      "Successfully installed Jinja2-3.1.4 MarkupSafe-2.1.5 Werkzeug-3.0.6 blinker-1.8.2 click-8.1.7 flask-3.0.3 flask-sqlalchemy-3.1.1 greenlet-3.1.1 itsdangerous-2.2.0 mysql-connector-python-9.0.0 sqlalchemy-2.0.36\n",
      "Note: you may need to restart the kernel to use updated packages.\n"
     ]
    }
   ],
   "source": [
    "pip install flask-sqlalchemy mysql-connector-python"
   ]
  },
  {
   "cell_type": "code",
   "execution_count": 29,
   "metadata": {},
   "outputs": [
    {
     "name": "stdout",
     "output_type": "stream",
     "text": [
      "Name: firebase-admin\n",
      "Version: 6.6.0\n",
      "Summary: Firebase Admin Python SDK\n",
      "Home-page: https://firebase.google.com/docs/admin/setup/\n",
      "Author: Firebase\n",
      "Author-email: \n",
      "License: Apache License 2.0\n",
      "Location: c:\\users\\smhrd\\anaconda3\\envs\\bareumi\\lib\\site-packages\n",
      "Requires: cachecontrol, google-api-core, google-api-python-client, google-cloud-firestore, google-cloud-storage, pyjwt\n",
      "Required-by: \n",
      "Note: you may need to restart the kernel to use updated packages.\n"
     ]
    }
   ],
   "source": [
    "pip show firebase_admin"
   ]
  },
  {
   "cell_type": "code",
   "execution_count": 4,
   "metadata": {},
   "outputs": [
    {
     "name": "stdout",
     "output_type": "stream",
     "text": [
      "Collecting flask-cors\n",
      "  Downloading Flask_Cors-5.0.0-py2.py3-none-any.whl.metadata (5.5 kB)\n",
      "Requirement already satisfied: Flask>=0.9 in c:\\users\\smhrd\\anaconda3\\envs\\bareumi\\lib\\site-packages (from flask-cors) (3.0.3)\n",
      "Requirement already satisfied: Werkzeug>=3.0.0 in c:\\users\\smhrd\\anaconda3\\envs\\bareumi\\lib\\site-packages (from Flask>=0.9->flask-cors) (3.0.6)\n",
      "Requirement already satisfied: Jinja2>=3.1.2 in c:\\users\\smhrd\\anaconda3\\envs\\bareumi\\lib\\site-packages (from Flask>=0.9->flask-cors) (3.1.4)\n",
      "Requirement already satisfied: itsdangerous>=2.1.2 in c:\\users\\smhrd\\anaconda3\\envs\\bareumi\\lib\\site-packages (from Flask>=0.9->flask-cors) (2.2.0)\n",
      "Requirement already satisfied: click>=8.1.3 in c:\\users\\smhrd\\anaconda3\\envs\\bareumi\\lib\\site-packages (from Flask>=0.9->flask-cors) (8.1.7)\n",
      "Requirement already satisfied: blinker>=1.6.2 in c:\\users\\smhrd\\anaconda3\\envs\\bareumi\\lib\\site-packages (from Flask>=0.9->flask-cors) (1.8.2)\n",
      "Requirement already satisfied: importlib-metadata>=3.6.0 in c:\\users\\smhrd\\anaconda3\\envs\\bareumi\\lib\\site-packages (from Flask>=0.9->flask-cors) (8.5.0)\n",
      "Requirement already satisfied: colorama in c:\\users\\smhrd\\anaconda3\\envs\\bareumi\\lib\\site-packages (from click>=8.1.3->Flask>=0.9->flask-cors) (0.4.6)\n",
      "Requirement already satisfied: zipp>=3.20 in c:\\users\\smhrd\\anaconda3\\envs\\bareumi\\lib\\site-packages (from importlib-metadata>=3.6.0->Flask>=0.9->flask-cors) (3.21.0)\n",
      "Requirement already satisfied: MarkupSafe>=2.0 in c:\\users\\smhrd\\anaconda3\\envs\\bareumi\\lib\\site-packages (from Jinja2>=3.1.2->Flask>=0.9->flask-cors) (2.1.5)\n",
      "Downloading Flask_Cors-5.0.0-py2.py3-none-any.whl (14 kB)\n",
      "Installing collected packages: flask-cors\n",
      "Successfully installed flask-cors-5.0.0\n",
      "Note: you may need to restart the kernel to use updated packages.\n"
     ]
    }
   ],
   "source": [
    "pip install flask-cors"
   ]
  },
  {
   "cell_type": "code",
   "execution_count": 5,
   "metadata": {},
   "outputs": [
    {
     "name": "stdout",
     "output_type": "stream",
     "text": [
      "Collecting flask-socketio\n",
      "  Downloading Flask_SocketIO-5.4.1-py3-none-any.whl.metadata (2.6 kB)\n",
      "Requirement already satisfied: Flask>=0.9 in c:\\users\\smhrd\\anaconda3\\envs\\bareumi\\lib\\site-packages (from flask-socketio) (3.0.3)\n",
      "Collecting python-socketio>=5.0.2 (from flask-socketio)\n",
      "  Downloading python_socketio-5.11.4-py3-none-any.whl.metadata (3.2 kB)\n",
      "Requirement already satisfied: Werkzeug>=3.0.0 in c:\\users\\smhrd\\anaconda3\\envs\\bareumi\\lib\\site-packages (from Flask>=0.9->flask-socketio) (3.0.6)\n",
      "Requirement already satisfied: Jinja2>=3.1.2 in c:\\users\\smhrd\\anaconda3\\envs\\bareumi\\lib\\site-packages (from Flask>=0.9->flask-socketio) (3.1.4)\n",
      "Requirement already satisfied: itsdangerous>=2.1.2 in c:\\users\\smhrd\\anaconda3\\envs\\bareumi\\lib\\site-packages (from Flask>=0.9->flask-socketio) (2.2.0)\n",
      "Requirement already satisfied: click>=8.1.3 in c:\\users\\smhrd\\anaconda3\\envs\\bareumi\\lib\\site-packages (from Flask>=0.9->flask-socketio) (8.1.7)\n",
      "Requirement already satisfied: blinker>=1.6.2 in c:\\users\\smhrd\\anaconda3\\envs\\bareumi\\lib\\site-packages (from Flask>=0.9->flask-socketio) (1.8.2)\n",
      "Requirement already satisfied: importlib-metadata>=3.6.0 in c:\\users\\smhrd\\anaconda3\\envs\\bareumi\\lib\\site-packages (from Flask>=0.9->flask-socketio) (8.5.0)\n",
      "Collecting bidict>=0.21.0 (from python-socketio>=5.0.2->flask-socketio)\n",
      "  Downloading bidict-0.23.1-py3-none-any.whl.metadata (8.7 kB)\n",
      "Collecting python-engineio>=4.8.0 (from python-socketio>=5.0.2->flask-socketio)\n",
      "  Downloading python_engineio-4.10.1-py3-none-any.whl.metadata (2.2 kB)\n",
      "Requirement already satisfied: colorama in c:\\users\\smhrd\\anaconda3\\envs\\bareumi\\lib\\site-packages (from click>=8.1.3->Flask>=0.9->flask-socketio) (0.4.6)\n",
      "Requirement already satisfied: zipp>=3.20 in c:\\users\\smhrd\\anaconda3\\envs\\bareumi\\lib\\site-packages (from importlib-metadata>=3.6.0->Flask>=0.9->flask-socketio) (3.21.0)\n",
      "Requirement already satisfied: MarkupSafe>=2.0 in c:\\users\\smhrd\\anaconda3\\envs\\bareumi\\lib\\site-packages (from Jinja2>=3.1.2->Flask>=0.9->flask-socketio) (2.1.5)\n",
      "Collecting simple-websocket>=0.10.0 (from python-engineio>=4.8.0->python-socketio>=5.0.2->flask-socketio)\n",
      "  Downloading simple_websocket-1.1.0-py3-none-any.whl.metadata (1.5 kB)\n",
      "Collecting wsproto (from simple-websocket>=0.10.0->python-engineio>=4.8.0->python-socketio>=5.0.2->flask-socketio)\n",
      "  Using cached wsproto-1.2.0-py3-none-any.whl.metadata (5.6 kB)\n",
      "Collecting h11<1,>=0.9.0 (from wsproto->simple-websocket>=0.10.0->python-engineio>=4.8.0->python-socketio>=5.0.2->flask-socketio)\n",
      "  Using cached h11-0.14.0-py3-none-any.whl.metadata (8.2 kB)\n",
      "Downloading Flask_SocketIO-5.4.1-py3-none-any.whl (18 kB)\n",
      "Downloading python_socketio-5.11.4-py3-none-any.whl (76 kB)\n",
      "Downloading bidict-0.23.1-py3-none-any.whl (32 kB)\n",
      "Downloading python_engineio-4.10.1-py3-none-any.whl (57 kB)\n",
      "Downloading simple_websocket-1.1.0-py3-none-any.whl (13 kB)\n",
      "Using cached wsproto-1.2.0-py3-none-any.whl (24 kB)\n",
      "Using cached h11-0.14.0-py3-none-any.whl (58 kB)\n",
      "Installing collected packages: h11, bidict, wsproto, simple-websocket, python-engineio, python-socketio, flask-socketio\n",
      "Successfully installed bidict-0.23.1 flask-socketio-5.4.1 h11-0.14.0 python-engineio-4.10.1 python-socketio-5.11.4 simple-websocket-1.1.0 wsproto-1.2.0\n",
      "Note: you may need to restart the kernel to use updated packages.\n"
     ]
    }
   ],
   "source": [
    "pip install flask-socketio"
   ]
  },
  {
   "cell_type": "code",
   "execution_count": 7,
   "metadata": {},
   "outputs": [
    {
     "name": "stdout",
     "output_type": "stream",
     "text": [
      "Collecting flask-sockNote: you may need to restart the kernel to use updated packages.\n",
      "\n",
      "  Downloading flask_sock-0.7.0-py3-none-any.whl.metadata (1.6 kB)\n",
      "Requirement already satisfied: flask>=2 in c:\\users\\smhrd\\anaconda3\\envs\\bareumi\\lib\\site-packages (from flask-sock) (3.0.3)\n",
      "Requirement already satisfied: simple-websocket>=0.5.1 in c:\\users\\smhrd\\anaconda3\\envs\\bareumi\\lib\\site-packages (from flask-sock) (1.1.0)\n",
      "Requirement already satisfied: Werkzeug>=3.0.0 in c:\\users\\smhrd\\anaconda3\\envs\\bareumi\\lib\\site-packages (from flask>=2->flask-sock) (3.0.6)\n",
      "Requirement already satisfied: Jinja2>=3.1.2 in c:\\users\\smhrd\\anaconda3\\envs\\bareumi\\lib\\site-packages (from flask>=2->flask-sock) (3.1.4)\n",
      "Requirement already satisfied: itsdangerous>=2.1.2 in c:\\users\\smhrd\\anaconda3\\envs\\bareumi\\lib\\site-packages (from flask>=2->flask-sock) (2.2.0)\n",
      "Requirement already satisfied: click>=8.1.3 in c:\\users\\smhrd\\anaconda3\\envs\\bareumi\\lib\\site-packages (from flask>=2->flask-sock) (8.1.7)\n",
      "Requirement already satisfied: blinker>=1.6.2 in c:\\users\\smhrd\\anaconda3\\envs\\bareumi\\lib\\site-packages (from flask>=2->flask-sock) (1.8.2)\n",
      "Requirement already satisfied: importlib-metadata>=3.6.0 in c:\\users\\smhrd\\anaconda3\\envs\\bareumi\\lib\\site-packages (from flask>=2->flask-sock) (8.5.0)\n",
      "Requirement already satisfied: wsproto in c:\\users\\smhrd\\anaconda3\\envs\\bareumi\\lib\\site-packages (from simple-websocket>=0.5.1->flask-sock) (1.2.0)\n",
      "Requirement already satisfied: colorama in c:\\users\\smhrd\\anaconda3\\envs\\bareumi\\lib\\site-packages (from click>=8.1.3->flask>=2->flask-sock) (0.4.6)\n",
      "Requirement already satisfied: zipp>=3.20 in c:\\users\\smhrd\\anaconda3\\envs\\bareumi\\lib\\site-packages (from importlib-metadata>=3.6.0->flask>=2->flask-sock) (3.21.0)\n",
      "Requirement already satisfied: MarkupSafe>=2.0 in c:\\users\\smhrd\\anaconda3\\envs\\bareumi\\lib\\site-packages (from Jinja2>=3.1.2->flask>=2->flask-sock) (2.1.5)\n",
      "Requirement already satisfied: h11<1,>=0.9.0 in c:\\users\\smhrd\\anaconda3\\envs\\bareumi\\lib\\site-packages (from wsproto->simple-websocket>=0.5.1->flask-sock) (0.14.0)\n",
      "Downloading flask_sock-0.7.0-py3-none-any.whl (4.0 kB)\n",
      "Installing collected packages: flask-sock\n",
      "Successfully installed flask-sock-0.7.0\n"
     ]
    }
   ],
   "source": [
    "pip install flask-sock"
   ]
  },
  {
   "cell_type": "code",
   "execution_count": 19,
   "metadata": {},
   "outputs": [
    {
     "name": "stdout",
     "output_type": "stream",
     "text": [
      " * Serving Flask app '__main__'\n",
      " * Debug mode: on\n"
     ]
    },
    {
     "name": "stderr",
     "output_type": "stream",
     "text": [
      "WARNING: This is a development server. Do not use it in a production deployment. Use a production WSGI server instead.\n",
      " * Running on all addresses (0.0.0.0)\n",
      " * Running on http://127.0.0.1:5000\n",
      " * Running on http://192.168.219.56:5000\n",
      "Press CTRL+C to quit\n",
      "192.168.219.56 - - [16/Dec/2024 16:04:19] \"GET /sensor/on HTTP/1.1\" 200 -\n"
     ]
    },
    {
     "name": "stdout",
     "output_type": "stream",
     "text": [
      "센서연결\n",
      "ON\n",
      "Value updated to: {'status': 'ON'}\n"
     ]
    },
    {
     "name": "stderr",
     "output_type": "stream",
     "text": [
      "192.168.219.56 - - [16/Dec/2024 16:04:25] \"GET /sensor/pause HTTP/1.1\" 200 -\n"
     ]
    },
    {
     "name": "stdout",
     "output_type": "stream",
     "text": [
      "센서 기록정지\n",
      "OFF\n",
      "Value updated to: {'status': 'OFF'}\n"
     ]
    },
    {
     "name": "stderr",
     "output_type": "stream",
     "text": [
      "192.168.219.56 - - [16/Dec/2024 16:04:46] \"GET /sensor/off HTTP/1.1\" 200 -\n"
     ]
    },
    {
     "name": "stdout",
     "output_type": "stream",
     "text": [
      "센서 종료\n",
      "OFF\n",
      "Value updated to: {'status': 'OFF'}\n",
      "Client Connected! 2024-12-16 16:06:24\n",
      "Received from ESP32: Hello from ESP32!\n"
     ]
    },
    {
     "name": "stderr",
     "output_type": "stream",
     "text": [
      "192.168.219.56 - - [16/Dec/2024 16:06:38] \"GET /sensor/on HTTP/1.1\" 200 -\n"
     ]
    },
    {
     "name": "stdout",
     "output_type": "stream",
     "text": [
      "센서연결\n",
      "ON\n",
      "Value updated to: {'status': 'ON'}\n"
     ]
    },
    {
     "name": "stderr",
     "output_type": "stream",
     "text": [
      "192.168.219.56 - - [16/Dec/2024 16:06:42] \"GET /sensor/pause HTTP/1.1\" 200 -\n"
     ]
    },
    {
     "name": "stdout",
     "output_type": "stream",
     "text": [
      "센서 기록정지\n",
      "OFF\n",
      "Value updated to: {'status': 'OFF'}\n"
     ]
    },
    {
     "name": "stderr",
     "output_type": "stream",
     "text": [
      "192.168.219.56 - - [16/Dec/2024 16:06:45] \"GET /sensor/on HTTP/1.1\" 200 -\n"
     ]
    },
    {
     "name": "stdout",
     "output_type": "stream",
     "text": [
      "센서연결\n",
      "ON\n",
      "Value updated to: {'status': 'ON'}\n"
     ]
    },
    {
     "name": "stderr",
     "output_type": "stream",
     "text": [
      "192.168.219.56 - - [16/Dec/2024 16:06:52] \"GET /sensor/off HTTP/1.1\" 200 -\n"
     ]
    },
    {
     "name": "stdout",
     "output_type": "stream",
     "text": [
      "센서 종료\n",
      "OFF\n",
      "Value updated to: {'status': 'OFF'}\n"
     ]
    },
    {
     "name": "stderr",
     "output_type": "stream",
     "text": [
      "192.168.219.56 - - [16/Dec/2024 16:07:48] \"GET /sensor/on HTTP/1.1\" 200 -\n"
     ]
    },
    {
     "name": "stdout",
     "output_type": "stream",
     "text": [
      "센서연결\n",
      "ON\n",
      "Value updated to: {'status': 'ON'}\n"
     ]
    },
    {
     "name": "stderr",
     "output_type": "stream",
     "text": [
      "192.168.219.56 - - [16/Dec/2024 16:08:16] \"GET /sensor/on HTTP/1.1\" 200 -\n"
     ]
    },
    {
     "name": "stdout",
     "output_type": "stream",
     "text": [
      "센서연결\n",
      "ON\n",
      "Value updated to: {'status': 'ON'}\n"
     ]
    },
    {
     "name": "stderr",
     "output_type": "stream",
     "text": [
      "192.168.219.56 - - [16/Dec/2024 16:08:22] \"GET /sensor/pause HTTP/1.1\" 200 -\n"
     ]
    },
    {
     "name": "stdout",
     "output_type": "stream",
     "text": [
      "센서 기록정지\n",
      "OFF\n",
      "Value updated to: {'status': 'OFF'}\n"
     ]
    },
    {
     "name": "stderr",
     "output_type": "stream",
     "text": [
      "192.168.219.56 - - [16/Dec/2024 16:08:24] \"GET /sensor/off HTTP/1.1\" 200 -\n"
     ]
    },
    {
     "name": "stdout",
     "output_type": "stream",
     "text": [
      "센서 종료\n",
      "OFF\n",
      "Value updated to: {'status': 'OFF'}\n"
     ]
    },
    {
     "name": "stderr",
     "output_type": "stream",
     "text": [
      "192.168.219.56 - - [16/Dec/2024 16:08:48] \"GET /sensor/on HTTP/1.1\" 200 -\n"
     ]
    },
    {
     "name": "stdout",
     "output_type": "stream",
     "text": [
      "센서연결\n",
      "ON\n",
      "Value updated to: {'status': 'ON'}\n"
     ]
    },
    {
     "name": "stderr",
     "output_type": "stream",
     "text": [
      "192.168.219.56 - - [16/Dec/2024 16:08:54] \"GET /sensor/pause HTTP/1.1\" 200 -\n"
     ]
    },
    {
     "name": "stdout",
     "output_type": "stream",
     "text": [
      "센서 기록정지\n",
      "OFF\n",
      "Value updated to: {'status': 'OFF'}\n"
     ]
    },
    {
     "name": "stderr",
     "output_type": "stream",
     "text": [
      "192.168.219.56 - - [16/Dec/2024 16:08:58] \"GET /sensor/off HTTP/1.1\" 200 -\n"
     ]
    },
    {
     "name": "stdout",
     "output_type": "stream",
     "text": [
      "센서 종료\n",
      "OFF\n",
      "Value updated to: {'status': 'OFF'}\n"
     ]
    },
    {
     "name": "stderr",
     "output_type": "stream",
     "text": [
      "192.168.219.56 - - [16/Dec/2024 16:09:01] \"GET /sensor/on HTTP/1.1\" 200 -\n"
     ]
    },
    {
     "name": "stdout",
     "output_type": "stream",
     "text": [
      "센서연결\n",
      "ON\n",
      "Value updated to: {'status': 'ON'}\n"
     ]
    },
    {
     "name": "stderr",
     "output_type": "stream",
     "text": [
      "192.168.219.56 - - [16/Dec/2024 16:09:04] \"GET /sensor/off HTTP/1.1\" 200 -\n"
     ]
    },
    {
     "name": "stdout",
     "output_type": "stream",
     "text": [
      "센서 종료\n",
      "OFF\n",
      "Value updated to: {'status': 'OFF'}\n"
     ]
    },
    {
     "name": "stderr",
     "output_type": "stream",
     "text": [
      "192.168.219.56 - - [16/Dec/2024 16:17:46] \"GET /sensor/on HTTP/1.1\" 200 -\n"
     ]
    },
    {
     "name": "stdout",
     "output_type": "stream",
     "text": [
      "센서연결\n",
      "ON\n",
      "Value updated to: {'status': 'ON'}\n"
     ]
    },
    {
     "name": "stderr",
     "output_type": "stream",
     "text": [
      "192.168.219.56 - - [16/Dec/2024 16:19:23] \"GET /sensor/pause HTTP/1.1\" 200 -\n"
     ]
    },
    {
     "name": "stdout",
     "output_type": "stream",
     "text": [
      "센서 기록정지\n",
      "OFF\n",
      "Value updated to: {'status': 'OFF'}\n"
     ]
    },
    {
     "name": "stderr",
     "output_type": "stream",
     "text": [
      "192.168.219.56 - - [16/Dec/2024 16:19:29] \"GET /sensor/on HTTP/1.1\" 200 -\n"
     ]
    },
    {
     "name": "stdout",
     "output_type": "stream",
     "text": [
      "센서연결\n",
      "ON\n",
      "Value updated to: {'status': 'ON'}\n"
     ]
    },
    {
     "name": "stderr",
     "output_type": "stream",
     "text": [
      "192.168.219.56 - - [16/Dec/2024 16:19:34] \"GET /sensor/pause HTTP/1.1\" 200 -\n"
     ]
    },
    {
     "name": "stdout",
     "output_type": "stream",
     "text": [
      "센서 기록정지\n",
      "OFF\n",
      "Value updated to: {'status': 'OFF'}\n"
     ]
    },
    {
     "name": "stderr",
     "output_type": "stream",
     "text": [
      "192.168.219.56 - - [16/Dec/2024 16:19:37] \"GET /sensor/off HTTP/1.1\" 200 -\n"
     ]
    },
    {
     "name": "stdout",
     "output_type": "stream",
     "text": [
      "센서 종료\n",
      "OFF\n",
      "Value updated to: {'status': 'OFF'}\n"
     ]
    },
    {
     "name": "stderr",
     "output_type": "stream",
     "text": [
      "192.168.219.47 - - [16/Dec/2024 16:57:18] \"GET /ws HTTP/1.1\" 200 -\n"
     ]
    },
    {
     "name": "stdout",
     "output_type": "stream",
     "text": [
      "Client Connected! 2024-12-16 16:57:18\n",
      "Received from ESP32: Hello from ESP32!\n",
      "Client Disconnected: Connection closed: 1005 \n"
     ]
    }
   ],
   "source": [
    "import firebase_admin\n",
    "from firebase_admin import credentials, db  # Realtime Database 관련 모듈\n",
    "\n",
    "from flask import Flask, request, jsonify, render_template\n",
    "from flask_cors import CORS\n",
    "from flask_sock import Sock \n",
    "from datetime import datetime\n",
    "\n",
    "import json\n",
    "# 앱 초기화\n",
    "app = Flask(__name__)\n",
    "sock = Sock(app)\n",
    "CORS(app,\n",
    "     resources = {r\"/sensor/*\": {\"origins\": [\"http://localhost:3000\"]}},\n",
    "     supports_credentials=True\n",
    "     )\n",
    "\n",
    "# Firebase 초기화\n",
    "if not firebase_admin._apps:\n",
    "    cred = credentials.Certificate(\"./key/serviceKey.json\")  # Firebase 서비스 계정 키 파일의 경로\n",
    "    firebase_admin.initialize_app(cred, {\n",
    "        'databaseURL': 'https://bareu-2fa47-default-rtdb.firebaseio.com/'  \n",
    "    })\n",
    "\n",
    "\n",
    "sensor_set = {\"status\": \"OFF\"}\n",
    "clients = []\n",
    "\n",
    "# # Firebase 데이터경로\n",
    "# db_ref = db.reference('sensor_data') # 데이터 저장 및 읽기 경로\n",
    "\n",
    "@app.get(\"/\")\n",
    "def index():\n",
    "     return render_template('index.html')\n",
    " \n",
    "@app.get(\"/send-data\")\n",
    "def to_input():\n",
    "    return render_template('testInput.html')\n",
    "\n",
    "@app.post(\"/send-data\")\n",
    "def send_firebase():\n",
    "\n",
    "    data = request.form.to_dict()\n",
    "    custom_key = f\"test_{datetime.now().strftime('%Y-%m-%d_%H:%M:%S')}\"\n",
    "    print(custom_key)\n",
    "    db_ref = db.reference(\"test\")\n",
    "\n",
    "    db_ref.child(custom_key).set({\"value\": data[\"test\"]})\n",
    "\n",
    "    return jsonify({\n",
    "        \"message\": \"send data success\",\n",
    "        \"firebase_key\": custom_key,\n",
    "        \"data\": data\n",
    "    }),200\n",
    "\n",
    "\n",
    "def sensor_status_update(data):\n",
    "    for client in clients:\n",
    "        try:\n",
    "            client.send(data)\n",
    "        except:\n",
    "            clients.remove(client)\n",
    "\n",
    "@app.get(\"/sensor/on\")\n",
    "def sensor_on() :\n",
    "    print(\"센서연결\")\n",
    "    sensor_set[\"status\"] = \"ON\"\n",
    "    print(sensor_set[\"status\"])\n",
    "    sensor_status_update(sensor_set[\"status\"])\n",
    "    print(f\"Value updated to: {sensor_set}\")\n",
    "    return jsonify({\"message\":\"센서연결 완료!\",\"sensorSet\": True}),200\n",
    "\n",
    "@app.get(\"/sensor/pause\")\n",
    "def sensor_pause() :\n",
    "    print(\"센서 기록정지\")\n",
    "    sensor_set[\"status\"] = \"OFF\"\n",
    "    print(sensor_set[\"status\"])\n",
    "    sensor_status_update(sensor_set[\"status\"])\n",
    "    print(f\"Value updated to: {sensor_set}\")\n",
    "    return jsonify({\"message\":\"기록정지 완료!\",\"sensorSet\": False}),200\n",
    "\n",
    "@app.get(\"/sensor/off\")\n",
    "def sensor_off() :\n",
    "    print(\"센서 종료\")\n",
    "    sensor_set[\"status\"] = \"OFF\"\n",
    "    print(sensor_set[\"status\"])\n",
    "    sensor_status_update(sensor_set[\"status\"])\n",
    "    print(f\"Value updated to: {sensor_set}\")\n",
    "    return jsonify({\"message\":\"중지 완료!\",\"sensorSet\": False}),200\n",
    "\n",
    "@sock.route('/ws')\n",
    "def websocket(ws):\n",
    "    print(f\"Client Connected! {datetime.now().strftime('%Y-%m-%d %H:%M:%S')}\")\n",
    "    clients.append(ws)\n",
    "    try:\n",
    "        while True:\n",
    "            message = ws.receive()\n",
    "            print(\"Received from ESP32:\", message)\n",
    "            # ESP32가 전송한 데이터를 출력\n",
    "            for client in clients:\n",
    "                client.send(\"Data received!\")\n",
    "    except Exception as e:\n",
    "        print(f\"Client Disconnected: {e}\")\n",
    "        clients.remove(ws)\n",
    "\n",
    "    \n",
    "\n",
    "if __name__ ==\"__main__\":\n",
    "    app.run(host='0.0.0.0', port=5000, debug=True, use_reloader = False)"
   ]
  },
  {
   "cell_type": "code",
   "execution_count": null,
   "metadata": {},
   "outputs": [],
   "source": []
  }
 ],
 "metadata": {
  "kernelspec": {
   "display_name": "bareumi",
   "language": "python",
   "name": "python3"
  },
  "language_info": {
   "codemirror_mode": {
    "name": "ipython",
    "version": 3
   },
   "file_extension": ".py",
   "mimetype": "text/x-python",
   "name": "python",
   "nbconvert_exporter": "python",
   "pygments_lexer": "ipython3",
   "version": "3.8.20"
  }
 },
 "nbformat": 4,
 "nbformat_minor": 2
}
